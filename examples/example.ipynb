{
 "cells": [
  {
   "attachments": {},
   "cell_type": "markdown",
   "metadata": {},
   "source": [
    "## Lana methods"
   ]
  },
  {
   "cell_type": "code",
   "execution_count": 1,
   "metadata": {},
   "outputs": [],
   "source": [
    "from lana import Matrix"
   ]
  },
  {
   "attachments": {},
   "cell_type": "markdown",
   "metadata": {},
   "source": [
    "### Zeros"
   ]
  },
  {
   "cell_type": "code",
   "execution_count": 8,
   "metadata": {},
   "outputs": [
    {
     "name": "stdout",
     "output_type": "stream",
     "text": [
      "Matrix([[0, 0, 0],\n",
      "       [0, 0, 0],\n",
      "       [0, 0, 0]])\n",
      "type: <class 'builtins.Matrix'>\n",
      "shape: (3, 3)\n"
     ]
    }
   ],
   "source": [
    "zeros = Matrix.zeros((3,3))\n",
    "print(zeros)\n",
    "print(f\"type: {type(zeros)}\")\n",
    "print(f\"shape: {zeros.shape}\")"
   ]
  },
  {
   "cell_type": "code",
   "execution_count": 6,
   "metadata": {},
   "outputs": [
    {
     "name": "stdout",
     "output_type": "stream",
     "text": [
      "[0.0, 0.0, 0.0] <class 'list'> 0.0 <class 'float'>\n",
      "[0.0, 0.0, 0.0] <class 'list'> 0.0 <class 'float'>\n",
      "[0.0, 0.0, 0.0] <class 'list'> 0.0 <class 'float'>\n"
     ]
    }
   ],
   "source": [
    "for row in zeros:\n",
    "    print(row, type(row), row[0], type(row[0]))"
   ]
  },
  {
   "attachments": {},
   "cell_type": "markdown",
   "metadata": {},
   "source": [
    "### Eye"
   ]
  },
  {
   "cell_type": "code",
   "execution_count": 16,
   "metadata": {},
   "outputs": [
    {
     "name": "stdout",
     "output_type": "stream",
     "text": [
      "Matrix([[1, 0, 0],\n",
      "       [0, 1, 0],\n",
      "       [0, 0, 1]])\n",
      "type: <class 'builtins.Matrix'>\n",
      "shape: (3, 3)\n"
     ]
    }
   ],
   "source": [
    "eye = Matrix.eye(3)\n",
    "print(eye)\n",
    "print(f\"type: {type(eye)}\")\n",
    "print(f\"shape: {eye.shape}\")"
   ]
  },
  {
   "attachments": {},
   "cell_type": "markdown",
   "metadata": {},
   "source": [
    "### Ones"
   ]
  },
  {
   "cell_type": "code",
   "execution_count": 21,
   "metadata": {},
   "outputs": [
    {
     "name": "stdout",
     "output_type": "stream",
     "text": [
      "Matrix([[1, 1, 1],\n",
      "       [1, 1, 1],\n",
      "       [1, 1, 1]])\n",
      "type: <class 'builtins.Matrix'>\n",
      "shape: (3, 3)\n"
     ]
    }
   ],
   "source": [
    "ones = Matrix.ones((3,3))\n",
    "print(ones)\n",
    "print(f\"type: {type(ones)}\")\n",
    "print(f\"shape: {ones.shape}\")"
   ]
  },
  {
   "attachments": {},
   "cell_type": "markdown",
   "metadata": {},
   "source": [
    "### Matrix"
   ]
  },
  {
   "cell_type": "code",
   "execution_count": 18,
   "metadata": {},
   "outputs": [
    {
     "name": "stdout",
     "output_type": "stream",
     "text": [
      "Matrix([[1, 2, 3],\n",
      "       [4, 5, 6],\n",
      "       [7, 8, 9]])\n",
      "type: <class 'builtins.Matrix'>\n",
      "shape: (3, 3)\n"
     ]
    }
   ],
   "source": [
    "matrix = Matrix.matrix([[1,2,3],[4,5,6], [7,8,9]])\n",
    "print(matrix)\n",
    "print(f\"type: {type(matrix)}\")\n",
    "print(f\"shape: {matrix.shape}\")"
   ]
  },
  {
   "attachments": {},
   "cell_type": "markdown",
   "metadata": {},
   "source": [
    "### Operations"
   ]
  },
  {
   "cell_type": "code",
   "execution_count": 22,
   "metadata": {},
   "outputs": [
    {
     "name": "stdout",
     "output_type": "stream",
     "text": [
      "Matrix([[3, 3, 3],\n",
      "       [3, 3, 3]])\n"
     ]
    }
   ],
   "source": [
    "a = Matrix.ones((2,3))\n",
    "b = Matrix.matrix([[2,2,2],[2,2,2]])\n",
    "c = a + b\n",
    "print(c)"
   ]
  },
  {
   "cell_type": "code",
   "execution_count": 23,
   "metadata": {},
   "outputs": [
    {
     "name": "stdout",
     "output_type": "stream",
     "text": [
      "Matrix([[2, 2, 2],\n",
      "       [2, 2, 2]])\n"
     ]
    }
   ],
   "source": [
    "d = c - a\n",
    "print(d)"
   ]
  },
  {
   "cell_type": "code",
   "execution_count": 25,
   "metadata": {},
   "outputs": [
    {
     "name": "stdout",
     "output_type": "stream",
     "text": [
      "Matrix([[-2, -2, -2],\n",
      "       [-2, -2, -2]])\n",
      "(2, 3) <class 'builtins.Matrix'>\n"
     ]
    }
   ],
   "source": [
    "e = -d \n",
    "print(e)\n",
    "print(e.shape, type(e))"
   ]
  }
 ],
 "metadata": {
  "kernelspec": {
   "display_name": ".env",
   "language": "python",
   "name": "python3"
  },
  "language_info": {
   "codemirror_mode": {
    "name": "ipython",
    "version": 3
   },
   "file_extension": ".py",
   "mimetype": "text/x-python",
   "name": "python",
   "nbconvert_exporter": "python",
   "pygments_lexer": "ipython3",
   "version": "3.9.12"
  },
  "orig_nbformat": 4
 },
 "nbformat": 4,
 "nbformat_minor": 2
}
